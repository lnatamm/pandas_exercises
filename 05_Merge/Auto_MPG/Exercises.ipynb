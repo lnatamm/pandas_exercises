{
 "cells": [
  {
   "cell_type": "markdown",
   "metadata": {},
   "source": [
    "# MPG Cars"
   ]
  },
  {
   "cell_type": "markdown",
   "metadata": {},
   "source": [
    "### Introduction:\n",
    "\n",
    "The following exercise utilizes data from [UC Irvine Machine Learning Repository](https://archive.ics.uci.edu/ml/datasets/Auto+MPG)\n",
    "\n",
    "### Step 1. Import the necessary libraries"
   ]
  },
  {
   "cell_type": "code",
   "execution_count": 18,
   "metadata": {
    "collapsed": false
   },
   "outputs": [],
   "source": [
    "import pandas as pd\n",
    "import numpy as np"
   ]
  },
  {
   "cell_type": "markdown",
   "metadata": {},
   "source": [
    "### Step 2. Import the first dataset [cars1](https://raw.githubusercontent.com/guipsamora/pandas_exercises/master/05_Merge/Auto_MPG/cars1.csv) and [cars2](https://raw.githubusercontent.com/guipsamora/pandas_exercises/master/05_Merge/Auto_MPG/cars2.csv).  "
   ]
  },
  {
   "cell_type": "markdown",
   "metadata": {},
   "source": [
    "   ### Step 3. Assign each to a variable called cars1 and cars2"
   ]
  },
  {
   "cell_type": "code",
   "execution_count": 2,
   "metadata": {
    "collapsed": false
   },
   "outputs": [],
   "source": [
    "cars1 = pd.read_csv('https://raw.githubusercontent.com/guipsamora/pandas_exercises/master/05_Merge/Auto_MPG/cars1.csv')\n",
    "cars2 = pd.read_csv('https://raw.githubusercontent.com/guipsamora/pandas_exercises/master/05_Merge/Auto_MPG/cars2.csv')"
   ]
  },
  {
   "cell_type": "markdown",
   "metadata": {},
   "source": [
    "### Step 4. Oops, it seems our first dataset has some unnamed blank columns, fix cars1"
   ]
  },
  {
   "cell_type": "code",
   "execution_count": 9,
   "metadata": {
    "collapsed": false
   },
   "outputs": [],
   "source": [
    "cars1 = cars1.loc[:, 'mpg':'car']"
   ]
  },
  {
   "cell_type": "markdown",
   "metadata": {},
   "source": [
    "### Step 5. What is the number of observations in each dataset?"
   ]
  },
  {
   "cell_type": "code",
   "execution_count": 14,
   "metadata": {
    "collapsed": false
   },
   "outputs": [
    {
     "name": "stdout",
     "output_type": "stream",
     "text": [
      "198\n",
      "200\n"
     ]
    }
   ],
   "source": [
    "print(cars1.shape[0])\n",
    "print(cars2.shape[0])"
   ]
  },
  {
   "cell_type": "markdown",
   "metadata": {},
   "source": [
    "### Step 6. Join cars1 and cars2 into a single DataFrame called cars"
   ]
  },
  {
   "cell_type": "code",
   "execution_count": 16,
   "metadata": {
    "collapsed": false
   },
   "outputs": [],
   "source": [
    "cars = pd.concat([cars1, cars2])"
   ]
  },
  {
   "cell_type": "markdown",
   "metadata": {},
   "source": [
    "### Step 7. Oops, there is a column missing, called owners. Create a random number Series from 15,000 to 73,000."
   ]
  },
  {
   "cell_type": "code",
   "execution_count": 20,
   "metadata": {
    "collapsed": false
   },
   "outputs": [
    {
     "data": {
      "text/plain": [
       "array([27226, 18000, 28317, 58962, 55652, 48395, 39588, 16483, 21009,\n",
       "       18732, 25116, 29096, 28167, 26744, 62377, 65256, 49385, 39360,\n",
       "       41544, 20603, 28946, 52533, 42729, 46002, 36609, 50948, 46833,\n",
       "       27878, 60721, 61427, 52684, 34971, 17904, 51354, 28019, 35552,\n",
       "       16510, 36728, 71582, 40368, 69412, 53909, 72688, 52390, 60000,\n",
       "       71927, 65958, 55443, 54417, 32345, 55867, 36692, 32267, 55291,\n",
       "       28327, 15890, 59668, 28264, 38679, 67474, 45944, 32689, 57551,\n",
       "       67902, 42459, 25042, 38548, 42186, 72639, 54067, 53575, 49293,\n",
       "       59280, 39641, 60997, 39076, 44568, 59444, 36410, 65773, 20613,\n",
       "       28218, 46439, 64054, 55419, 46398, 23298, 34673, 51550, 71595,\n",
       "       52925, 61368, 47020, 47627, 56406, 25175, 58198, 28092, 46659,\n",
       "       39086, 26331, 16638, 39550, 60708, 69097, 15500, 69760, 48308,\n",
       "       51366, 70927, 64492, 48931, 54551, 26604, 52857, 26354, 29450,\n",
       "       72224, 17814, 27808, 45432, 56129, 53674, 25345, 28232, 48352,\n",
       "       16549, 54080, 21586, 46378, 40120, 69490, 66058, 48039, 24919,\n",
       "       54341, 15120, 21406, 46813, 38782, 52650, 53771, 18659, 56184,\n",
       "       70712, 23842, 70115, 27225, 31254, 52645, 27933, 25692, 64211,\n",
       "       37508, 55476, 34690, 54164, 42774, 66319, 41757, 39873, 38869,\n",
       "       37477, 36328, 15606, 27559, 45545, 56619, 26569, 48521, 26270,\n",
       "       48313, 28474, 45031, 52376, 68187, 42071, 47020, 18553, 28584,\n",
       "       42713, 33577, 32146, 17416, 25118, 41699, 30337, 35815, 37832,\n",
       "       41599, 63036, 51903, 70435, 38369, 28829, 22505, 19583, 27044,\n",
       "       18526, 56792, 65806, 42740, 45558, 19476, 45299, 19023, 72841,\n",
       "       60206, 27116, 41066, 61575, 30281, 64460, 65786, 66234, 40008,\n",
       "       53561, 43674, 66351, 61748, 66690, 69535, 22486, 38312, 40585,\n",
       "       31582, 54129, 52448, 23113, 17473, 56424, 72850, 20739, 32516,\n",
       "       32728, 46580, 26639, 72674, 71068, 45799, 58666, 63618, 36610,\n",
       "       48206, 64294, 69299, 35108, 22852, 26125, 59242, 37101, 68082,\n",
       "       70040, 16686, 29551, 56214, 48214, 72270, 57492, 28029, 58450,\n",
       "       26909, 47093, 46598, 45223, 27355, 66841, 64910, 55907, 32847,\n",
       "       46847, 50106, 31113, 28701, 21444, 63652, 71788, 42169, 66295,\n",
       "       31562, 55321, 47865, 28584, 56761, 35114, 15947, 71917, 44362,\n",
       "       45481, 34073, 56663, 36577, 50132, 43414, 44929, 34405, 22058,\n",
       "       63456, 38670, 54356, 39238, 47258, 53830, 47833, 22649, 43240,\n",
       "       26604, 48186, 35707, 65341, 51615, 28747, 36558, 45415, 17387,\n",
       "       28380, 34638, 71350, 25357, 27965, 19792, 56500, 49215, 62416,\n",
       "       39426, 20717, 22087, 33836, 70451, 54449, 33029, 39214, 28629,\n",
       "       38010, 18336, 71117, 47363, 66168, 29717, 21074, 37243, 36543,\n",
       "       23924, 34315, 16810, 30949, 31378, 65906, 21151, 56188, 25641,\n",
       "       19425, 30419, 56968, 23040, 19538, 16531, 18029, 49911, 32791,\n",
       "       42401, 49505, 33210, 58367, 21017, 68159, 21293, 61992, 20863,\n",
       "       71896, 21872, 51965, 25355, 26727, 31220, 45530, 27801, 20095,\n",
       "       51386, 46031, 44163, 18958, 56242, 37407, 53165, 25308, 35448,\n",
       "       48218, 23825, 43721, 17129, 70047, 37588, 39645, 30850, 69310,\n",
       "       50253, 55995])"
      ]
     },
     "execution_count": 20,
     "metadata": {},
     "output_type": "execute_result"
    }
   ],
   "source": [
    "nr_owners = np.random.randint(15000, 73000, 398, dtype='l')\n",
    "nr_owners"
   ]
  },
  {
   "cell_type": "markdown",
   "metadata": {},
   "source": [
    "### Step 8. Add the column owners to cars"
   ]
  },
  {
   "cell_type": "code",
   "execution_count": 21,
   "metadata": {
    "collapsed": false
   },
   "outputs": [],
   "source": [
    "cars['owners'] = nr_owners"
   ]
  }
 ],
 "metadata": {
  "anaconda-cloud": {},
  "kernelspec": {
   "display_name": "env",
   "language": "python",
   "name": "python3"
  },
  "language_info": {
   "codemirror_mode": {
    "name": "ipython",
    "version": 3
   },
   "file_extension": ".py",
   "mimetype": "text/x-python",
   "name": "python",
   "nbconvert_exporter": "python",
   "pygments_lexer": "ipython3",
   "version": "3.10.12"
  }
 },
 "nbformat": 4,
 "nbformat_minor": 0
}
